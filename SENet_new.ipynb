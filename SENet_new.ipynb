{
 "cells": [
  {
   "cell_type": "code",
   "execution_count": 13,
   "id": "9f62bf35-b4b2-43f1-a08a-7bc4a680c839",
   "metadata": {},
   "outputs": [],
   "source": [
    "import torch\n",
    "from torchvision import models, transforms\n",
    "from PIL import Image\n",
    "import requests\n",
    "from io import BytesIO\n",
    "import matplotlib.pyplot as plt\n",
    "import os\n",
    "import cv2\n",
    "import keras\n",
    "import warnings\n",
    "import time\n",
    "import numpy as np\n",
    "import pandas as pd\n",
    "import seaborn as sns\n",
    "import tensorflow as tf\n",
    "import matplotlib.pyplot as plt\n",
    "import random"
   ]
  },
  {
   "cell_type": "code",
   "execution_count": 57,
   "id": "3185e812-118d-46d6-9348-06859593f90a",
   "metadata": {},
   "outputs": [],
   "source": [
    "# Load a pretrained ResNet-50 model\n",
    "model = models.resnet50()\n",
    "model.fc = nn.Linear(model.fc.in_features, 10)\n",
    "# model.eval()  # Set the model to evaluation mode"
   ]
  },
  {
   "cell_type": "code",
   "execution_count": 15,
   "id": "947df478-2079-48e7-8672-df29cc2a6df8",
   "metadata": {},
   "outputs": [],
   "source": [
    "def loading_training_data(data_dir):\n",
    "    data = []\n",
    "    labels_list = []\n",
    "    \n",
    "    for label in labels:\n",
    "        # path = os.path.join(data_dir, label)\n",
    "        path = data_dir+\"/\"+label\n",
    "        class_num = labels.index(label)\n",
    "        for img in os.listdir(path):\n",
    "            # print(img)\n",
    "            # print(path)\n",
    "            # img_arr = cv2.imread(os.path.join(path, img), cv2.IMREAD_GRAYSCALE)\n",
    "            img_arr = cv2.imread(os.path.join(path, img))\n",
    "            \n",
    "            # print(os.path.join(path,img))\n",
    "            if img_arr is None:\n",
    "                # print(f\"Warning: Unable to load image {img}\")\n",
    "                print(os.path.join(path,img))\n",
    "                continue  # Skip the image if it can't be loaded\n",
    "            resized_arr = cv2.resize(img_arr, (img_size, img_size))\n",
    "            data.append(resized_arr)\n",
    "            labels_list.append(class_num)\n",
    "            \n",
    "    return np.array(data), np.array(labels_list)\n"
   ]
  },
  {
   "cell_type": "code",
   "execution_count": 16,
   "id": "82b679c2-6d7b-4f13-950b-cb1714a5f94d",
   "metadata": {},
   "outputs": [],
   "source": [
    "# Labels for image categories\n",
    "labels = ['Beagle', 'Boxer', 'Bulldog', 'Dachshund', 'German_Shepherd', 'Golden_Retriever', 'Labrador_Retriever', 'Poodle', 'Rottweiler', 'Yorkshire_Terrier']\n",
    "img_size = 32"
   ]
  },
  {
   "cell_type": "code",
   "execution_count": 17,
   "id": "1eb29e7a-9a1a-456d-bf1b-c478768e2dd0",
   "metadata": {},
   "outputs": [],
   "source": [
    "dog_breed_train_data, dog_breed_train_label = loading_training_data('./DogBreedImageDataset/dataset')"
   ]
  },
  {
   "cell_type": "code",
   "execution_count": 37,
   "id": "72fdea5f-06b1-4477-a7a0-b8a0c980bfac",
   "metadata": {},
   "outputs": [],
   "source": [
    "test_data = dog_breed_train_data[0]"
   ]
  },
  {
   "cell_type": "code",
   "execution_count": 38,
   "id": "856b0137-57a5-4251-870a-0590d32d7ffa",
   "metadata": {},
   "outputs": [
    {
     "data": {
      "text/plain": [
       "(32, 32, 3)"
      ]
     },
     "execution_count": 38,
     "metadata": {},
     "output_type": "execute_result"
    }
   ],
   "source": [
    "test_data.shape"
   ]
  },
  {
   "cell_type": "code",
   "execution_count": 39,
   "id": "05ed1a08-76b8-4839-8634-0accc75ba150",
   "metadata": {},
   "outputs": [
    {
     "data": {
      "text/plain": [
       "numpy.ndarray"
      ]
     },
     "execution_count": 39,
     "metadata": {},
     "output_type": "execute_result"
    }
   ],
   "source": [
    "type(test_data)"
   ]
  },
  {
   "cell_type": "code",
   "execution_count": 40,
   "id": "2db817a6-1d5f-4f12-9e68-1ab91c7008f3",
   "metadata": {},
   "outputs": [
    {
     "name": "stdout",
     "output_type": "stream",
     "text": [
      "torch.Size([1, 3, 224, 224])\n"
     ]
    }
   ],
   "source": [
    "# image_np = image_np.astype(np.uint8)  # Ensure it's an unsigned byte array (0-255)\n",
    "\n",
    "# Convert the NumPy array to a PIL Image\n",
    "image = Image.fromarray(test_data)\n",
    "\n",
    "# Define the required transformations for ResNet-50\n",
    "transform = transforms.Compose([\n",
    "    transforms.Resize(256),           # Resize to 256x256 (larger than 224x224 to allow for cropping)\n",
    "    transforms.CenterCrop(224),       # Crop to 224x224\n",
    "    transforms.ToTensor(),            # Convert to tensor (will scale pixel values to [0, 1])\n",
    "    transforms.Normalize(             # Normalize the image with ResNet-50 mean and std\n",
    "        mean=[0.485, 0.456, 0.406], \n",
    "        std=[0.229, 0.224, 0.225]\n",
    "    ),\n",
    "])\n",
    "\n",
    "# Apply the transformations\n",
    "input_tensor = transform(image)\n",
    "\n",
    "# Add batch dimension (ResNet-50 expects input of shape [batch_size, channels, height, width])\n",
    "input_tensor = input_tensor.unsqueeze(0)\n",
    "\n",
    "# Print the shape of the tensor (should be [1, 3, 224, 224])\n",
    "print(input_tensor.shape)\n",
    "\n",
    "# Now, you can pass this input_tensor to a model for prediction"
   ]
  },
  {
   "cell_type": "code",
   "execution_count": 41,
   "id": "4a10cf6f-2aae-441f-8113-f3d56fcf78fe",
   "metadata": {},
   "outputs": [
    {
     "data": {
      "text/plain": [
       "tensor([[-9.0025e-01, -8.2897e-01, -2.7587e-01,  9.0487e-02,  1.0005e+00,\n",
       "          2.3377e-02,  5.0992e-02,  3.5889e-01, -8.0116e-01,  5.9734e-01,\n",
       "          6.9120e-01, -7.8117e-01, -2.6625e-01,  6.7690e-01,  5.4179e-01,\n",
       "         -1.2378e+00,  1.3005e+00,  6.6130e-02,  1.0128e-01, -8.4853e-02,\n",
       "         -1.0930e+00,  2.9924e-01, -3.9452e-01, -2.3037e-01, -5.6824e-01,\n",
       "          4.5046e-01,  4.2336e-01,  3.3456e-01, -6.8376e-01, -9.7505e-01,\n",
       "          3.8500e-01,  1.3769e+00,  1.2480e+00, -3.2572e-02, -9.6674e-01,\n",
       "         -5.3555e-01,  9.5935e-01, -1.5254e-01,  6.5324e-01,  4.5625e-02,\n",
       "         -1.6542e-02, -4.0806e-01, -4.1751e-01, -1.5022e-01, -1.1263e-01,\n",
       "          2.0497e-01, -1.4066e-01,  4.6307e-01,  2.7611e-02, -8.7182e-01,\n",
       "         -4.4118e-01,  2.5375e-03,  2.5510e-02,  5.4150e-01, -9.6354e-02,\n",
       "          2.4022e-01,  6.9569e-01,  4.2595e-01,  9.1507e-02,  4.2108e-02,\n",
       "         -3.9851e-01, -2.5334e-01,  6.0019e-02, -7.6522e-01, -9.2369e-01,\n",
       "         -4.0556e-01,  5.2200e-01, -2.7511e-02,  2.1207e-01,  7.2352e-01,\n",
       "         -1.3784e+00,  3.5799e-01,  9.5228e-01,  4.4827e-01,  6.8597e-01,\n",
       "          9.7068e-02, -1.1745e+00, -1.9463e-01, -4.9006e-01,  3.9148e-01,\n",
       "          1.5262e-01, -3.4268e-01,  5.4791e-01,  9.4875e-01, -1.9934e-02,\n",
       "          1.7566e-01, -2.7309e-01,  2.0011e-01,  1.5350e+00,  1.7148e+00,\n",
       "          1.3399e-01, -2.7480e-01,  5.7708e-01,  2.3309e-01, -2.8851e-01,\n",
       "         -2.8513e-01, -1.1697e+00,  1.2676e+00,  2.4551e-01, -1.7700e+00,\n",
       "         -8.6950e-01,  2.1689e-02,  2.1349e-01,  1.5599e-01,  5.9647e-01,\n",
       "         -1.1821e-01, -2.6316e-01, -2.0063e-01,  2.5958e-02,  2.3978e-01,\n",
       "         -4.5376e-01, -2.5818e-01,  4.0726e-01, -2.3173e-01, -5.0823e-01,\n",
       "          1.1356e+00, -3.8822e-01,  1.5229e-01,  4.1250e-01, -1.1866e-01,\n",
       "         -2.0978e-01,  3.4301e-01, -1.9349e+00, -8.2649e-01, -1.6644e-01,\n",
       "         -4.4635e-01, -1.0681e+00,  1.5256e-01,  6.7869e-01,  3.4860e-01,\n",
       "          9.1828e-01, -7.5078e-01, -3.7148e-01,  1.9188e-01, -1.3073e+00,\n",
       "          1.5571e-01,  1.1496e-01, -2.9214e-01,  7.7429e-03, -1.2130e+00,\n",
       "         -1.0462e+00, -3.3238e-02,  5.4669e-01,  3.1122e-01,  3.2647e-01,\n",
       "         -1.5012e+00, -6.5749e-01,  1.1327e+00, -3.7818e-01,  3.6749e-02,\n",
       "         -3.2638e-01,  1.4549e-01, -8.5258e-02, -4.6949e-01,  8.2412e-01,\n",
       "          9.1165e-02, -1.8038e-01, -1.2327e+00, -3.3344e-01, -9.9736e-01,\n",
       "         -8.3450e-01,  1.9134e-01, -7.7646e-01,  4.2855e-01, -1.0407e-01,\n",
       "          3.1615e-01, -3.4582e-01,  5.3880e-04, -1.2192e+00, -6.6315e-02,\n",
       "          1.0954e-01,  5.6668e-01, -3.6035e-02, -1.8756e-01, -5.7887e-01,\n",
       "         -1.0187e+00,  3.8984e-01,  5.3701e-01, -5.9424e-01, -1.0555e-01,\n",
       "          4.2363e-01, -2.7557e-01,  2.7294e-02, -8.1488e-01, -1.9951e-01,\n",
       "          2.3572e-01, -5.7777e-01, -4.3677e-01, -5.2308e-01,  2.7198e-03,\n",
       "          6.5735e-01, -5.4749e-01,  2.8537e-02, -5.6531e-01, -7.5112e-01,\n",
       "          2.4195e-01,  7.9244e-01,  3.2002e-01, -9.2275e-02, -3.4812e-01,\n",
       "          2.6175e-01,  8.0035e-01, -4.3195e-01, -6.6287e-01, -5.3392e-01,\n",
       "         -6.7887e-01, -7.3876e-02,  1.7040e-01, -3.5401e-01,  8.4296e-02,\n",
       "         -1.1958e+00, -5.1439e-01,  2.7899e-01,  1.9178e-01,  6.2676e-01,\n",
       "         -6.0628e-01,  4.7493e-01,  3.0304e-01,  3.4336e-01,  2.3127e-02,\n",
       "         -2.2062e-01, -3.6200e-01, -8.3339e-01,  1.2229e+00, -1.4566e-01,\n",
       "         -7.0881e-02, -9.6885e-02,  3.2004e-01, -7.0453e-01,  5.9095e-01,\n",
       "         -4.4912e-01, -3.8157e-01,  1.2834e+00,  1.8549e-01, -7.8890e-02,\n",
       "          4.1594e-01,  9.2506e-02, -9.1660e-01,  5.2945e-01, -3.1302e-01,\n",
       "         -3.9715e-01, -3.9651e-01, -3.6429e-01,  3.0490e-01, -1.0304e-01,\n",
       "         -3.4572e-01,  2.0163e-01,  4.4544e-01, -6.1261e-01,  5.6724e-01,\n",
       "         -1.4121e-02, -5.8163e-01,  3.7299e-01,  5.0215e-01, -5.3237e-01,\n",
       "          2.5593e-01,  3.5083e-03,  9.0512e-02,  7.7243e-01, -3.7499e-01,\n",
       "         -1.6252e+00, -7.8477e-01, -2.2979e-01,  5.4059e-01, -2.2140e-02,\n",
       "          8.5980e-01,  7.5799e-01,  4.9104e-01, -4.4211e-01, -3.6490e-01,\n",
       "          3.2346e-01,  3.2589e-01,  5.7662e-01, -9.0414e-01,  7.1989e-01,\n",
       "          3.0019e-01, -2.1713e-02, -4.4561e-01,  1.8629e+00,  6.2852e-01,\n",
       "         -4.5626e-01, -4.0487e-01, -1.3722e-01, -2.8492e-01,  6.8586e-02,\n",
       "          3.5690e-01, -1.0238e+00,  1.0072e+00, -1.0654e+00,  2.0241e-01,\n",
       "         -1.0227e+00, -8.3906e-01,  1.2234e+00, -1.7571e+00,  6.9156e-01,\n",
       "          5.6588e-01,  2.0560e-01,  6.0803e-01,  5.0306e-01,  2.4235e-01,\n",
       "          4.3516e-01,  3.4708e-01, -2.2747e-01, -7.2066e-01,  4.9639e-01,\n",
       "          4.6292e-01, -8.8310e-01,  1.5413e-01,  6.0695e-01, -2.7686e-01,\n",
       "         -7.1071e-01, -1.1322e+00, -1.6774e-01, -1.0789e+00, -8.4242e-01,\n",
       "          1.0268e-01, -8.0625e-01,  1.2099e-01,  8.0383e-01,  3.8731e-01,\n",
       "         -6.4157e-02,  5.4892e-01, -8.4574e-01, -8.4291e-01, -8.0772e-01,\n",
       "         -1.6533e-03, -2.7781e-02,  5.9385e-01, -2.6046e-01,  8.1499e-01,\n",
       "          5.3590e-01,  4.0672e-01,  9.1328e-01,  1.8376e-01,  1.6149e-01,\n",
       "         -4.6948e-01,  1.5883e-01, -5.5180e-01, -1.0215e+00, -1.5834e-01,\n",
       "         -1.6055e-01, -6.0814e-01, -6.1302e-01, -3.8340e-01, -6.7958e-01,\n",
       "          6.5295e-01,  3.6010e-01, -4.9103e-01, -1.1802e+00,  3.1646e-03,\n",
       "          1.2444e+00, -2.0502e-01,  5.2542e-01,  8.3188e-01,  3.0044e-01,\n",
       "         -1.0962e-01,  4.3875e-01,  1.0833e+00,  5.2135e-01, -7.1609e-02,\n",
       "          1.3935e+00, -7.6701e-01, -7.5128e-01,  8.3311e-01, -4.6968e-01,\n",
       "          5.3706e-01,  1.6507e-03, -9.3435e-02,  3.2287e-01,  8.0588e-02,\n",
       "         -1.2561e-01, -1.1042e+00,  5.7813e-01,  3.0011e-01, -5.7747e-02,\n",
       "          1.9010e-02,  1.1321e-01, -1.5679e-01,  1.5162e+00,  1.0042e+00,\n",
       "          3.8869e-02,  1.1702e-01,  5.0804e-01, -4.3458e-01, -7.9298e-01,\n",
       "         -3.7665e-01,  1.4672e-01, -1.9078e+00, -5.1856e-01, -1.4082e-01,\n",
       "         -3.9609e-01, -1.1583e+00,  1.3050e+00, -1.5591e-01,  2.1944e-01,\n",
       "         -4.8013e-01,  6.5855e-01,  8.3696e-01,  1.3072e-01,  2.7015e-01,\n",
       "          2.6568e-02, -9.1247e-01,  1.6640e-01,  1.5519e-02,  1.5624e-01,\n",
       "         -1.3410e-01,  6.5548e-01,  2.0837e-01, -5.0335e-01,  3.4298e-01,\n",
       "          9.5525e-01, -8.7015e-01,  5.4543e-01, -1.0539e+00,  5.7169e-01,\n",
       "         -7.0953e-01,  3.8225e-01, -2.1368e-01, -3.7666e-01,  3.9965e-02,\n",
       "          5.1027e-01,  1.4179e-01, -6.5211e-02,  3.1506e-01, -8.0842e-01,\n",
       "         -4.1321e-03, -1.2937e+00,  4.2487e-01,  3.1610e-01, -7.4308e-01,\n",
       "          1.7785e-01, -1.4566e-01,  1.1094e+00,  2.0947e-01, -1.7283e-01,\n",
       "         -3.4054e-01,  3.3376e-01, -1.5706e-01, -1.2192e-01,  2.0696e-01,\n",
       "          6.6848e-01, -4.9106e-01,  3.8284e-01,  7.4485e-01, -7.8861e-01,\n",
       "         -5.9959e-02, -2.7601e-02,  7.7034e-02,  4.0236e-01,  4.2772e-01,\n",
       "          2.8541e-01,  3.1922e-01, -1.1802e+00, -2.8925e-01, -3.8934e-01,\n",
       "         -3.7958e-01, -4.9185e-01,  2.2249e-02, -9.4853e-01, -1.3403e+00,\n",
       "          3.8374e-01, -1.7988e-01, -8.4110e-02,  3.7709e-02, -9.3903e-01,\n",
       "          8.2421e-02, -3.5118e-01, -9.3603e-02,  1.1328e-01, -1.0058e+00,\n",
       "         -7.3069e-01,  6.8280e-01, -4.4110e-01, -5.5861e-01,  3.4691e-01,\n",
       "         -3.0834e-01, -5.6379e-01,  8.1154e-01,  1.1309e+00, -2.8764e-01,\n",
       "         -4.4794e-01,  5.2275e-01,  1.1926e-01, -1.3517e+00, -5.5503e-01,\n",
       "          2.8045e-01, -7.1759e-01,  2.0666e-01, -4.0460e-01,  7.3031e-01,\n",
       "         -5.9186e-02,  6.8639e-01,  5.2709e-01,  4.6766e-01,  6.8117e-01,\n",
       "          4.4143e-01, -6.7837e-01,  4.1256e-01, -1.3911e+00, -6.4021e-01,\n",
       "          5.8624e-01, -9.6600e-01,  1.3079e+00,  1.8598e-01, -1.9250e-02,\n",
       "          8.9902e-01, -6.3431e-01,  2.7957e-01,  2.6711e-01, -8.9219e-01,\n",
       "         -2.7028e-01,  2.4141e-01,  4.4796e-01,  5.9870e-01,  4.5665e-01,\n",
       "          8.0113e-01, -9.0576e-01,  3.5263e-01,  2.6460e-01,  9.1009e-01,\n",
       "          5.4308e-01, -1.2911e-01, -2.7041e-02, -2.9131e-01,  5.2686e-01,\n",
       "          4.2382e-01, -1.9290e-01, -7.9084e-01,  4.4987e-01, -7.1521e-01,\n",
       "          5.1716e-01,  1.5343e-01, -2.2373e-01, -6.7376e-02, -6.6235e-01,\n",
       "          1.0251e+00,  5.0082e-01,  4.3872e-01, -4.4999e-02,  9.6782e-01,\n",
       "          5.6736e-01,  3.5664e-01,  2.1618e-01, -5.5814e-01, -9.1729e-01,\n",
       "         -6.9682e-01,  1.3256e+00,  1.2546e+00,  3.6441e-01,  3.0927e-01,\n",
       "         -2.0617e-01, -7.8114e-01, -6.4632e-01,  4.2810e-01, -9.8006e-01,\n",
       "         -6.5845e-02, -3.2701e-01,  1.0054e-01, -7.3504e-01, -1.3906e-01,\n",
       "          7.5761e-01, -3.7751e-01,  2.1116e-01, -4.5082e-01, -2.2359e-02,\n",
       "         -4.9711e-01,  2.6281e-01,  5.6705e-01,  5.3863e-01, -6.2753e-01,\n",
       "         -1.5128e+00, -2.7339e-01,  3.2345e-01, -1.9055e-01,  1.2324e+00,\n",
       "         -5.5325e-01,  1.3701e+00,  4.7070e-01, -3.4979e-01, -5.2149e-01,\n",
       "         -4.9400e-02,  4.9375e-01, -7.3246e-01, -8.7677e-01,  8.1813e-02,\n",
       "         -2.1757e-01, -1.8745e-01, -1.1828e-01,  1.8143e-02,  9.7898e-01,\n",
       "         -4.6257e-02,  7.7591e-01, -2.3364e-02, -9.1508e-01, -7.6882e-01,\n",
       "         -1.6402e-01,  3.9928e-01, -6.1321e-01,  7.2861e-01,  3.3346e-01,\n",
       "          1.0826e-01, -7.6792e-01, -6.2352e-01,  1.2012e+00, -1.1261e-01,\n",
       "          2.4270e-02, -8.3364e-01,  4.0904e-01, -2.4070e-01,  8.9372e-01,\n",
       "          1.0202e+00,  1.6321e-01, -1.3924e-01, -5.0658e-01,  5.2544e-02,\n",
       "          6.4842e-01,  4.8981e-01, -2.4463e-01, -9.2108e-01, -2.9169e-01,\n",
       "         -3.3866e-01,  2.9522e-01, -2.7764e-01,  5.1125e-01,  3.5525e-02,\n",
       "         -2.6066e-01,  6.5025e-01, -6.0174e-02, -1.1524e-02,  7.2359e-01,\n",
       "         -4.7658e-01, -1.1942e-01, -2.7652e-02, -5.8955e-02,  3.3355e-01,\n",
       "          2.8187e-01,  5.2532e-01,  3.2291e-01, -6.5365e-01, -1.9050e-01,\n",
       "          8.9205e-02,  5.5429e-01,  6.5946e-01, -2.9911e-01,  2.1105e-01,\n",
       "         -6.0847e-01,  9.3708e-02,  1.4162e+00, -7.5689e-02, -3.0389e-01,\n",
       "         -2.1765e-01,  1.6957e-02,  7.6137e-02,  1.3535e+00,  1.3263e-01,\n",
       "         -1.2221e-01,  1.0249e+00,  8.3454e-01, -1.2680e-01, -1.9142e-01,\n",
       "          1.1461e-01,  4.2409e-01,  5.6116e-01, -6.6871e-01, -7.1137e-01,\n",
       "         -1.8383e+00,  6.3874e-01,  9.4021e-02, -1.1165e+00, -4.9392e-01,\n",
       "          1.5854e-01, -5.4541e-01,  2.9652e-01, -8.3805e-02, -5.7453e-01,\n",
       "          7.1449e-01,  4.0791e-01,  6.2368e-02, -4.2038e-02,  1.0892e-01,\n",
       "          1.4944e-02, -6.2526e-02,  3.7360e-01, -9.8962e-01, -9.2691e-01,\n",
       "         -3.5097e-01, -2.3195e-01, -8.8718e-01, -2.7944e-01, -6.1005e-01,\n",
       "         -1.5367e-01,  2.8820e-01, -1.8893e-01, -3.5185e-01, -2.5470e-01,\n",
       "         -4.9268e-01, -9.4776e-01, -7.5906e-02, -1.3971e+00,  7.1156e-01,\n",
       "          1.9001e-01,  2.1707e-01,  6.8380e-02,  2.4195e-01,  9.7844e-01,\n",
       "         -1.7886e-01,  2.3342e-01,  2.0286e-01, -5.4053e-01,  2.4424e-01,\n",
       "          1.5674e-01,  1.3013e+00, -1.8800e-01, -5.9105e-01,  2.5338e-01,\n",
       "         -8.3361e-02,  2.8403e-01, -4.9604e-01,  1.0413e-01,  2.1949e-01,\n",
       "         -4.2938e-01, -5.4703e-01,  1.1174e+00, -7.1549e-01, -3.2330e-01,\n",
       "         -1.7517e-01, -1.0192e-01,  3.0054e-01, -1.3945e+00, -3.1115e-01,\n",
       "         -3.8321e-01,  4.0839e-01, -9.6244e-01, -9.1097e-01,  5.8869e-01,\n",
       "          2.3511e-01,  9.1644e-01,  4.8931e-01,  1.5444e+00,  5.2614e-01,\n",
       "          3.9652e-01,  3.4819e-01, -2.9039e-01, -3.5505e-01,  2.2534e-01,\n",
       "          8.7828e-01, -3.6268e-01,  2.2680e-01,  6.7694e-02,  5.5542e-01,\n",
       "          4.7230e-01,  2.3955e-01, -1.0229e+00,  1.1516e+00, -6.4697e-01,\n",
       "          2.8954e-01, -2.7906e-02, -2.5182e-01,  4.4305e-01,  2.7368e-01,\n",
       "         -5.3565e-01,  8.7892e-02,  7.3496e-01,  6.9974e-01,  1.7392e+00,\n",
       "         -8.7078e-01,  4.9608e-01,  7.8469e-01,  6.0255e-01, -3.6798e-01,\n",
       "          1.9719e-01, -1.7633e-01,  4.7116e-01, -6.2269e-01,  8.4072e-01,\n",
       "          1.0099e+00,  3.7137e-01,  3.7448e-01,  5.6003e-02, -2.1892e-01,\n",
       "         -4.4219e-01,  2.8275e-02, -1.9824e-02, -9.3906e-01, -3.8914e-01,\n",
       "          1.2150e+00, -8.9207e-01,  2.4131e-01,  6.1931e-01, -1.4834e-02,\n",
       "         -4.3974e-01,  2.5876e-02,  7.1096e-01,  1.0709e+00, -1.2022e+00,\n",
       "          1.1653e+00,  4.9241e-01, -1.4074e+00, -5.4232e-01,  5.6845e-01,\n",
       "         -8.5381e-01, -2.9291e-01, -5.4990e-03, -5.5007e-01, -5.8558e-01,\n",
       "         -3.0874e-01,  7.4477e-01,  5.3812e-01, -3.4567e-01,  7.2609e-01,\n",
       "          1.2777e-01,  8.7529e-01,  2.5627e-01,  3.0898e-01, -6.1014e-01,\n",
       "          8.5463e-01, -2.3419e-01, -1.0223e+00, -4.0280e-01,  5.2293e-01,\n",
       "          1.1244e+00, -1.0498e+00, -3.0799e-01,  9.6251e-02, -1.4492e-01,\n",
       "          4.8112e-02, -1.0413e+00,  1.4254e-01, -5.0750e-01, -8.9150e-01,\n",
       "         -1.1643e+00, -6.0679e-02, -4.4804e-02,  9.2292e-01, -5.3431e-01,\n",
       "         -5.5734e-01, -3.1297e-01, -9.6327e-01,  6.3420e-01,  1.5971e+00,\n",
       "          3.4548e-01,  5.8819e-01, -1.5837e-01, -6.4465e-01,  2.2702e-01,\n",
       "          7.1400e-01, -2.4299e-01,  3.2262e-01,  1.2755e-01,  7.7294e-01,\n",
       "         -4.3159e-01, -1.2951e+00, -3.7075e-01, -5.3274e-01,  6.5662e-02,\n",
       "          3.2840e-01,  1.4993e-01,  7.4380e-01, -2.7189e-01,  2.7726e-01,\n",
       "          3.7536e-01, -1.3653e-01, -2.0333e-01,  1.0058e+00, -9.6752e-02,\n",
       "          4.1871e-01,  6.0309e-01, -2.1295e-01, -6.4563e-01, -2.5206e-01,\n",
       "         -3.0653e-01,  3.3128e-01,  1.0411e+00,  7.4930e-01,  7.6201e-01,\n",
       "         -2.1435e-01, -8.5423e-01,  1.8012e-02,  6.0739e-01, -5.0112e-01,\n",
       "          1.4019e-01, -4.2187e-01,  2.6597e-01,  4.0359e-02,  3.7963e-01,\n",
       "          6.2669e-01, -2.8301e-01, -3.3788e-01, -1.0168e+00,  2.1452e-02,\n",
       "          2.1293e-01,  9.7433e-01,  4.9624e-01, -3.4051e-01, -5.6715e-01,\n",
       "         -8.3712e-02, -7.0121e-01, -3.3019e-01,  1.1093e+00, -2.2561e-01,\n",
       "          3.5652e-01,  7.4994e-01, -8.0044e-01, -3.0743e-01, -8.0256e-01,\n",
       "         -9.8275e-02, -5.1924e-01,  5.0796e-01,  1.7493e-02, -1.2722e+00,\n",
       "          4.9976e-01, -1.8718e-01,  1.8386e-03, -8.2211e-01,  2.2657e-01,\n",
       "          8.2508e-01, -7.4247e-01,  3.1285e-01,  2.0853e-01, -1.2635e+00,\n",
       "         -1.2023e+00,  1.0592e+00, -1.0139e+00,  6.8711e-01,  2.3115e-01,\n",
       "          5.4591e-01,  5.9308e-01, -8.0263e-01,  6.9091e-01, -5.3446e-01,\n",
       "          3.3305e-01, -5.1958e-01, -4.3876e-03,  8.3460e-01, -7.2125e-01,\n",
       "          5.2868e-01,  1.1821e-01, -3.2113e-01,  3.4624e-01, -1.9545e-01,\n",
       "         -2.2434e-01, -4.5050e-01, -7.4285e-01,  3.6533e-01, -1.3351e+00,\n",
       "         -6.1792e-01, -4.0018e-01,  1.5474e-01,  1.0111e+00, -9.8651e-01,\n",
       "          4.8035e-01,  3.7960e-01, -8.9425e-01, -1.1169e+00, -1.8820e-02,\n",
       "         -8.5441e-01, -4.9288e-01, -3.2201e-01, -3.9443e-01,  1.6545e-01,\n",
       "          2.6203e-01, -3.9009e-01,  1.7703e-02, -3.4145e-01,  8.4761e-01,\n",
       "         -7.2120e-01, -5.5039e-01,  2.0214e-01,  2.1041e-01, -6.0195e-02,\n",
       "         -3.4599e-01, -1.0122e+00, -5.3708e-01,  6.7856e-01, -1.0906e+00,\n",
       "          8.2022e-01,  1.5267e-01, -3.1840e-01,  3.7378e-02,  4.1364e-01,\n",
       "          2.0331e-01,  1.2470e-01, -4.0083e-01,  2.1959e-01,  9.7198e-01,\n",
       "          4.5305e-01, -3.1561e-01,  9.7285e-01,  7.2577e-01,  3.2918e-03,\n",
       "         -5.2709e-01, -1.1785e-01,  3.8541e-01,  7.8630e-01, -8.0509e-01,\n",
       "         -5.5172e-01,  2.9752e-01,  3.9368e-01, -8.1922e-01,  2.9766e-01]],\n",
       "       grad_fn=<AddmmBackward0>)"
      ]
     },
     "execution_count": 41,
     "metadata": {},
     "output_type": "execute_result"
    }
   ],
   "source": [
    "model(input_tensor)"
   ]
  },
  {
   "cell_type": "code",
   "execution_count": 43,
   "id": "cd7fca79-d629-4b4c-8617-73f0a0e9a6c4",
   "metadata": {},
   "outputs": [],
   "source": [
    "test_datas = dog_breed_train_data[0:5]"
   ]
  },
  {
   "cell_type": "code",
   "execution_count": 49,
   "id": "428a92ba-4987-400e-a1c6-32d574b58376",
   "metadata": {},
   "outputs": [
    {
     "data": {
      "text/plain": [
       "(5, 32, 32, 3)"
      ]
     },
     "execution_count": 49,
     "metadata": {},
     "output_type": "execute_result"
    }
   ],
   "source": [
    "test_datas.shape"
   ]
  },
  {
   "cell_type": "code",
   "execution_count": 46,
   "id": "abb9d527-c2b4-4775-8773-4f298dc202b0",
   "metadata": {},
   "outputs": [],
   "source": [
    "# Example: Load multiple images (let's say 3 images)\n",
    "# image_paths = [\"image1.jpg\", \"image2.jpg\", \"image3.jpg\"]  # List of image file paths\n",
    "\n",
    "# Define the transformations\n",
    "transform = transforms.Compose([\n",
    "    transforms.Resize(256),           # Resize to 256x256 (larger than 224x224 to allow for cropping)\n",
    "    transforms.CenterCrop(224),       # Crop to 224x224\n",
    "    transforms.ToTensor(),            # Convert to tensor (will scale pixel values to [0, 1])\n",
    "    transforms.Normalize(             # Normalize with ImageNet mean and std\n",
    "        mean=[0.485, 0.456, 0.406], \n",
    "        std=[0.229, 0.224, 0.225]\n",
    "    ),\n",
    "])\n",
    "\n",
    "# Prepare the list of images\n",
    "input_tensors = []\n",
    "for image in test_datas:\n",
    "    # image = Image.open(image_path)  # Open the image\n",
    "    image = Image.fromarray(image)\n",
    "    image_tensor = transform(image)  # Apply transformations\n",
    "    input_tensors.append(image_tensor)\n",
    "\n",
    "# Stack the images into a single tensor (batch of images)\n",
    "input_batch = torch.stack(input_tensors)  # Shape will be [batch_size, 3, 224, 224]\n"
   ]
  },
  {
   "cell_type": "code",
   "execution_count": 59,
   "id": "dbedb36f-9fe0-4dfa-87bb-258f8445cbac",
   "metadata": {},
   "outputs": [
    {
     "data": {
      "text/plain": [
       "torch.Size([5, 3, 224, 224])"
      ]
     },
     "execution_count": 59,
     "metadata": {},
     "output_type": "execute_result"
    }
   ],
   "source": [
    "input_batch.shape"
   ]
  },
  {
   "cell_type": "code",
   "execution_count": 61,
   "id": "08fd9a65-b2e9-4231-8200-9d34843b3352",
   "metadata": {},
   "outputs": [
    {
     "data": {
      "text/plain": [
       "tensor([[-0.6913, -0.2163,  0.6575, -0.2908, -1.0244, -0.2395, -0.0191,  1.4609,\n",
       "          1.1078,  1.4837],\n",
       "        [-0.6126, -0.2382,  0.5021, -0.4188, -1.3217, -0.1784, -0.1413,  1.8684,\n",
       "          1.0650,  1.6394],\n",
       "        [-0.2959,  0.0656,  0.5339, -0.1434, -0.5605, -0.2595,  0.0629,  1.1306,\n",
       "          0.6717,  1.1948],\n",
       "        [-0.5466,  0.1201,  0.6848, -0.2493, -0.6841, -0.1796,  0.0680,  1.2954,\n",
       "          0.5856,  1.1101],\n",
       "        [-0.3185,  0.0995,  0.6308, -0.2875, -0.6562, -0.2852, -0.0932,  1.3617,\n",
       "          0.7612,  1.1964]], grad_fn=<AddmmBackward0>)"
      ]
     },
     "execution_count": 61,
     "metadata": {},
     "output_type": "execute_result"
    }
   ],
   "source": [
    "model(input_batch)"
   ]
  },
  {
   "cell_type": "code",
   "execution_count": 67,
   "id": "d81dc99a-2926-44f0-a2e2-453d1b345109",
   "metadata": {},
   "outputs": [
    {
     "name": "stdout",
     "output_type": "stream",
     "text": [
      "Task 1 Output: torch.Size([2, 10])\n",
      "Task 2 Output: torch.Size([2, 5])\n"
     ]
    }
   ],
   "source": [
    "import torch\n",
    "import torch.nn as nn\n",
    "from torchvision import models\n",
    "\n",
    "class MultiTaskResNet50(nn.Module):\n",
    "    def __init__(self, num_classes_task1, num_classes_task2):\n",
    "        super(MultiTaskResNet50, self).__init__()\n",
    "        \n",
    "        # Load the pre-trained ResNet-50 model\n",
    "        self.resnet = models.resnet50(pretrained=True)\n",
    "        \n",
    "        # Remove the final fully connected layer (classifier) for both tasks\n",
    "        self.resnet = nn.Sequential(*list(self.resnet.children())[:-1])  # Exclude final FC layer\n",
    "        \n",
    "        # Task 1: A new fully connected layer for the first task\n",
    "        self.fc_task1 = nn.Linear(2048, num_classes_task1)\n",
    "        \n",
    "        # Task 2: A new fully connected layer for the second task\n",
    "        self.fc_task2 = nn.Linear(2048, num_classes_task2)\n",
    "        \n",
    "    def forward(self, x):\n",
    "        # Pass through the ResNet backbone (everything before the final fully connected layer)\n",
    "        features = self.resnet(x)  # Output size: [batch_size, 2048, 1, 1]\n",
    "        \n",
    "        # Flatten the output to [batch_size, 2048]\n",
    "        features = features.view(features.size(0), -1)\n",
    "        \n",
    "        # Task 1: Pass through the task-specific classifier\n",
    "        task1_output = self.fc_task1(features)\n",
    "        \n",
    "        # Task 2: Pass through the task-specific classifier\n",
    "        task2_output = self.fc_task2(features)\n",
    "        \n",
    "        return task1_output, task2_output\n",
    "\n",
    "# Example usage:\n",
    "num_classes_task1 = 10  # Number of classes for task 1\n",
    "num_classes_task2 = 5   # Number of classes for task 2\n",
    "\n",
    "# Instantiate the model\n",
    "model = MultiTaskResNet50(num_classes_task1, num_classes_task2)\n",
    "\n",
    "# Example input tensor with shape [batch_size, 3, 224, 224]\n",
    "input_tensor = torch.randn(2, 3, 224, 224)  # Batch size of 2\n",
    "\n",
    "# Forward pass\n",
    "task1_output, task2_output = model(input_tensor)\n",
    "\n",
    "print(\"Task 1 Output:\", task1_output.shape)  # Should be [batch_size, num_classes_task1]\n",
    "print(\"Task 2 Output:\", task2_output.shape)  # Should be [batch_size, num_classes_task2]\n"
   ]
  },
  {
   "cell_type": "code",
   "execution_count": null,
   "id": "4e6382af-aa20-443a-a44f-527a916b9f3b",
   "metadata": {},
   "outputs": [],
   "source": []
  }
 ],
 "metadata": {
  "kernelspec": {
   "display_name": "Python 3 (ipykernel)",
   "language": "python",
   "name": "python3"
  },
  "language_info": {
   "codemirror_mode": {
    "name": "ipython",
    "version": 3
   },
   "file_extension": ".py",
   "mimetype": "text/x-python",
   "name": "python",
   "nbconvert_exporter": "python",
   "pygments_lexer": "ipython3",
   "version": "3.10.10"
  }
 },
 "nbformat": 4,
 "nbformat_minor": 5
}
